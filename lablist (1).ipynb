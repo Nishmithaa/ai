{
 "cells": [
  {
   "cell_type": "code",
   "execution_count": 1,
   "id": "08faa3a0",
   "metadata": {},
   "outputs": [
    {
     "name": "stdout",
     "output_type": "stream",
     "text": [
      "following bfs are\n",
      "visited nodes are ['1', '2']\n",
      "visited nodes are ['1', '2', '10']\n",
      "visited nodes are ['1', '2', '10', '3']\n",
      "visited nodes are ['1', '2', '10', '3', '8']\n",
      "visited nodes are ['1', '2', '10', '3', '8', '4']\n",
      "visited nodes are ['1', '2', '10', '3', '8', '4', '9']\n",
      "visited nodes are ['1', '2', '10', '3', '8', '4', '9', '5']\n",
      "visited nodes are ['1', '2', '10', '3', '8', '4', '9', '5', '6']\n",
      "visited nodes are ['1', '2', '10', '3', '8', '4', '9', '5', '6', '7']\n"
     ]
    }
   ],
   "source": [
    "graph = {\n",
    "       '1':['2','10'],\n",
    "       '2':['3','8'],\n",
    "       '3':['4'],\n",
    "       '4':['5','6','7'],\n",
    "       '5':[],\n",
    "       '6':[],\n",
    "       '7':[],\n",
    "       '8':['9'],\n",
    "       '9':[],\n",
    "       '10':[]\n",
    "}\n",
    "visited=[]\n",
    "queue=[]\n",
    "\n",
    "def bfs(visited,graph,node):\n",
    "    visited.append(node)\n",
    "    queue.append(node)\n",
    "\n",
    "    while queue:\n",
    "      m=queue.pop(0)\n",
    "\n",
    "      for neighbour in graph[m]:\n",
    "          if neighbour not in visited:\n",
    "               visited.append(neighbour)\n",
    "               queue.append(neighbour)\n",
    "               print(\"visited nodes are\",visited)\n",
    "print(\"following bfs are\")\n",
    "bfs(visited,graph,'1')\n",
    "\n",
    "\n"
   ]
  },
  {
   "cell_type": "code",
   "execution_count": 1,
   "id": "62e8b31f",
   "metadata": {},
   "outputs": [
    {
     "name": "stdout",
     "output_type": "stream",
     "text": [
      "following dfs\n",
      "1\n",
      "2\n",
      "3\n",
      "4\n",
      "5\n",
      "6\n",
      "7\n",
      "8\n",
      "9\n",
      "10\n"
     ]
    }
   ],
   "source": [
    "graph={\n",
    "    '1':['2','10'],\n",
    "       '2':['3','8'],\n",
    "       '3':['4'],\n",
    "       '4':['5','6','7'],\n",
    "       '5':[],\n",
    "       '6':[],\n",
    "       '7':[],\n",
    "       '8':['9'],\n",
    "       '9':[],\n",
    "       '10':[]\n",
    "}\n",
    "visited=set()\n",
    "def dfs(visited,graph,node):\n",
    "    if node not in visited:\n",
    "      print(node)\n",
    "      visited.add(node)\n",
    "  \n",
    "      for neighbour  in graph[node]:\n",
    "        dfs(visited,graph,neighbour)\n",
    "print(\"following dfs\")\n",
    "dfs(visited,graph,'1')\n",
    "\n"
   ]
  },
  {
   "cell_type": "code",
   "execution_count": null,
   "id": "1270de1f",
   "metadata": {},
   "outputs": [],
   "source": [
    "FS"
   ]
  },
  {
   "cell_type": "code",
   "execution_count": 15,
   "id": "5169c31a",
   "metadata": {},
   "outputs": [
    {
     "name": "stdout",
     "output_type": "stream",
     "text": [
      "\n",
      "The given training examples are:\n",
      "['Sunny', 'Warm', 'Normal', 'Strong', 'Warm', 'Same', 'Yes']\n",
      "['Sunny', 'Warm', 'High', 'Strong', 'Warm', 'Same', 'Yes']\n",
      "['Rainy', 'Cold', 'High', 'Strong', 'Warm', 'Change', 'No']\n",
      "['Sunny', 'Warm', 'High', 'Strong', 'Cool', 'Change', 'Yes']\n"
     ]
    }
   ],
   "source": [
    "import csv  \n",
    "#hypo=['%','%','%','%','%','%'] \n",
    "with open('ws.csv') as csv_file:  \n",
    "    readcsv = csv.reader(csv_file, delimiter=',') \n",
    "    data=[]  \n",
    "    print(\"\\nThe given training examples are:\")  \n",
    "    for row in readcsv:     \n",
    "        print(row)  \n",
    "        if row[len(row)-1] =='Yes':    \n",
    "            data.append(row) "
   ]
  },
  {
   "cell_type": "code",
   "execution_count": 16,
   "id": "961a5612",
   "metadata": {},
   "outputs": [
    {
     "data": {
      "text/plain": [
       "3"
      ]
     },
     "execution_count": 16,
     "metadata": {},
     "output_type": "execute_result"
    }
   ],
   "source": [
    "TotalExamples=len(data) \n",
    "TotalExamples"
   ]
  },
  {
   "cell_type": "code",
   "execution_count": 17,
   "id": "31f38624",
   "metadata": {},
   "outputs": [
    {
     "name": "stdout",
     "output_type": "stream",
     "text": [
      "\n",
      "The positive examples are:\n",
      "['Sunny', 'Warm', 'Normal', 'Strong', 'Warm', 'Same', 'Yes']\n",
      "['Sunny', 'Warm', 'High', 'Strong', 'Warm', 'Same', 'Yes']\n",
      "['Sunny', 'Warm', 'High', 'Strong', 'Cool', 'Change', 'Yes']\n"
     ]
    }
   ],
   "source": [
    "print(\"\\nThe positive examples are:\")\n",
    "for x in data:  \n",
    "    print(x) "
   ]
  },
  {
   "cell_type": "code",
   "execution_count": 18,
   "id": "f01fe238",
   "metadata": {},
   "outputs": [
    {
     "data": {
      "text/plain": [
       "['Sunny', 'Warm', 'Normal', 'Strong', 'Warm', 'Same']"
      ]
     },
     "execution_count": 18,
     "metadata": {},
     "output_type": "execute_result"
    }
   ],
   "source": [
    "i=0\n",
    "hypo=[]\n",
    "d=len(data[0])-1\n",
    "for j in range(d):  \n",
    "    hypo.append(data[i][j])\n",
    "hypo"
   ]
  },
  {
   "cell_type": "code",
   "execution_count": 19,
   "id": "b5a2c7ac",
   "metadata": {},
   "outputs": [
    {
     "name": "stdout",
     "output_type": "stream",
     "text": [
      "['Sunny', 'Warm', '?', 'Strong', '?', '?']\n"
     ]
    }
   ],
   "source": [
    "for i in range(TotalExamples):   \n",
    "    for k in range(d): \n",
    "        if hypo[k]!=data[i][k]: \n",
    "            hypo[k]='?'\n",
    "        else:    \n",
    "            hypo[k] \n",
    "print(hypo)"
   ]
  },
  {
   "cell_type": "code",
   "execution_count": null,
   "id": "2129b100",
   "metadata": {},
   "outputs": [],
   "source": [
    "CE"
   ]
  },
  {
   "cell_type": "code",
   "execution_count": 20,
   "id": "b93e83fd",
   "metadata": {},
   "outputs": [
    {
     "name": "stdout",
     "output_type": "stream",
     "text": [
      "\n",
      " steps of candidate elimination algorithm 1\n",
      "['Sunny', 'Warm', '?', 'Strong', 'Warm', 'Same']\n",
      "[['?', '?', '?', '?', '?', '?'], ['?', '?', '?', '?', '?', '?'], ['?', '?', '?', '?', '?', '?'], ['?', '?', '?', '?', '?', '?'], ['?', '?', '?', '?', '?', '?'], ['?', '?', '?', '?', '?', '?']]\n",
      "\n",
      " steps of candidate elimination algorithm 2\n",
      "['Sunny', 'Warm', '?', 'Strong', 'Warm', 'Same']\n",
      "[['?', '?', '?', '?', '?', '?'], ['?', '?', '?', '?', '?', '?'], ['?', '?', '?', '?', '?', '?'], ['?', '?', '?', '?', '?', '?'], ['?', '?', '?', '?', '?', '?'], ['?', '?', '?', '?', '?', '?']]\n",
      "\n",
      " steps of candidate elimination algorithm 3\n",
      "['Sunny', 'Warm', '?', 'Strong', 'Warm', 'Same']\n",
      "[['Sunny', '?', '?', '?', '?', '?'], ['?', 'Warm', '?', '?', '?', '?'], ['?', '?', '?', '?', '?', '?'], ['?', '?', '?', '?', '?', '?'], ['?', '?', '?', '?', '?', '?'], ['?', '?', '?', '?', '?', 'Same']]\n",
      "\n",
      " steps of candidate elimination algorithm 4\n",
      "['Sunny', 'Warm', '?', 'Strong', '?', '?']\n",
      "[['Sunny', '?', '?', '?', '?', '?'], ['?', 'Warm', '?', '?', '?', '?'], ['?', '?', '?', '?', '?', '?'], ['?', '?', '?', '?', '?', '?'], ['?', '?', '?', '?', '?', '?'], ['?', '?', '?', '?', '?', '?']]\n",
      "\n",
      "Final specific hypothesis:\n",
      " ['Sunny', 'Warm', '?', 'Strong', '?', '?']\n",
      "\n",
      "Final general hypothesis:\n",
      " [['Sunny', '?', '?', '?', '?', '?'], ['?', 'Warm', '?', '?', '?', '?']]\n"
     ]
    }
   ],
   "source": [
    "import csv\n",
    "with open(\"ws.csv\")as csv_file:\n",
    "    #csv_file=csv.reader(f)\n",
    "    #data=list(csv_file)\n",
    "    readcsv=csv.reader(csv_file,delimiter=',')\n",
    "    data=[]\n",
    "    for row in readcsv:\n",
    "        data.append(row)\n",
    "    s=data[1][:-1]\n",
    "    g=[['?'for i in range(len(s))]for j in range(len(s))]\n",
    "    for i in data:\n",
    "        if i[-1]==\"Yes\":\n",
    "            for j in range(len(s)):\n",
    "                if i[j]!=s[j]:\n",
    "                    s[j]='?'\n",
    "                    g[j][j]='?'\n",
    "        elif i[-1]==\"No\":\n",
    "            for j in range(len(s)):\n",
    "                if i[j]!=s[j]:\n",
    "                      g[j][j]=s[j]\n",
    "                else:\n",
    "                    g[j][j]=\"?\"\n",
    "        print(\"\\n steps of candidate elimination algorithm\",data.index(i)+1)\n",
    "        print(s)\n",
    "        print(g)\n",
    "    gh=[]\n",
    "    for i in g:\n",
    "        for j in i:\n",
    "            if j!='?':\n",
    "                gh.append(i)\n",
    "                break\n",
    "    print(\"\\nFinal specific hypothesis:\\n\",s)\n",
    "    print(\"\\nFinal general hypothesis:\\n\",gh)    "
   ]
  },
  {
   "cell_type": "code",
   "execution_count": null,
   "id": "1e326352",
   "metadata": {},
   "outputs": [],
   "source": [
    "\n"
   ]
  },
  {
   "cell_type": "code",
   "execution_count": 21,
   "id": "0cc4211b",
   "metadata": {},
   "outputs": [
    {
     "name": "stdout",
     "output_type": "stream",
     "text": [
      "Input: \n",
      "[[0.66666667 1.        ]\n",
      " [0.33333333 0.55555556]\n",
      " [1.         0.66666667]]\n",
      "Actual Output: \n",
      "[[0.92]\n",
      " [0.86]\n",
      " [0.89]]\n",
      "Predicted Output: \n",
      " [[0.89238024]\n",
      " [0.88403785]\n",
      " [0.89415952]]\n"
     ]
    }
   ],
   "source": [
    "import numpy as np\n",
    "X = np.array(([2, 9], [1, 5], [3, 6]), dtype=float)\n",
    "y = np.array(([92], [86], [89]), dtype=float)\n",
    "X = X/np.amax(X,axis=0) # maximum of X array longitudinally\n",
    "y = y/100\n",
    "\n",
    "#Sigmoid Function\n",
    "def sigmoid (x):\n",
    "    return 1/(1 + np.exp(-x))\n",
    "\n",
    "#Derivative of Sigmoid Function\n",
    "def derivatives_sigmoid(x):\n",
    "     return x * (1 - x)\n",
    "    \n",
    "#Variable initialization\n",
    "epoch=7000     \n",
    "lr=0.1          \n",
    "inputlayer_neurons = 2    \n",
    "hiddenlayer_neurons = 3     #number of hidden layers neurons\n",
    "output_neurons = 1     #number of neurons at output layer\n",
    "\n",
    "#weight and bias initialization\n",
    "wh=np.random.uniform(size=(inputlayer_neurons,hiddenlayer_neurons))\n",
    "bh=np.random.uniform(size=(1,hiddenlayer_neurons))\n",
    "wout=np.random.uniform(size=(hiddenlayer_neurons,output_neurons))\n",
    "bout=np.random.uniform(size=(1,output_neurons))\n",
    "\n",
    "\n",
    "for i in range(epoch):\n",
    "\n",
    "#Forward Propogation\n",
    "    hinp1=np.dot(X,wh)\n",
    "    hinp=hinp1 + bh\n",
    "    hlayer_act = sigmoid(hinp)\n",
    "    outinp1=np.dot(hlayer_act,wout)\n",
    "    outinp= outinp1+ bout\n",
    "    output = sigmoid(outinp)\n",
    "\n",
    "\n",
    "#Backpropagation\n",
    "    EO = y-output\n",
    "    outgrad = derivatives_sigmoid(output)\n",
    "    d_output = EO* outgrad\n",
    "    EH = d_output.dot(wout.T)\n",
    "    hiddengrad = derivatives_sigmoid(hlayer_act)\n",
    "    d_hiddenlayer = EH * hiddengrad\n",
    "    wout += hlayer_act.T.dot(d_output) *lr \n",
    "    wh += X.T.dot(d_hiddenlayer) *lr\n",
    "    \n",
    "print(\"Input: \\n\" + str(X))\n",
    "print(\"Actual Output: \\n\" + str(y))\n",
    "print(\"Predicted Output: \\n\",output)\n",
    "   "
   ]
  },
  {
   "cell_type": "code",
   "execution_count": null,
   "id": "39f91a0c",
   "metadata": {},
   "outputs": [],
   "source": [
    "NB"
   ]
  },
  {
   "cell_type": "code",
   "execution_count": 35,
   "id": "94b8f6f0",
   "metadata": {},
   "outputs": [],
   "source": [
    "import numpy as nm\n",
    "import matplotlib.pyplot as plt\n",
    "import pandas as pd\n"
   ]
  },
  {
   "cell_type": "code",
   "execution_count": 23,
   "id": "07d3b72b",
   "metadata": {},
   "outputs": [],
   "source": [
    "dataset = pd.read_csv('user.csv')\n",
    "x = dataset.iloc[:, [2, 3]].values\n",
    "y = dataset.iloc[:, 4].values\n",
    "\n"
   ]
  },
  {
   "cell_type": "code",
   "execution_count": 25,
   "id": "7ad1bde6",
   "metadata": {},
   "outputs": [],
   "source": [
    "from sklearn.model_selection import train_test_split\n",
    "x_train, x_test, y_train, y_test = train_test_split(x, y, test_size = 0.25, random_state = 0)\n"
   ]
  },
  {
   "cell_type": "code",
   "execution_count": 26,
   "id": "e28cdeba",
   "metadata": {},
   "outputs": [],
   "source": [
    "from sklearn.preprocessing import StandardScaler\n",
    "sc = StandardScaler()\n",
    "x_train = sc.fit_transform(x_train)\n",
    "x_test = sc.transform(x_test)"
   ]
  },
  {
   "cell_type": "code",
   "execution_count": 27,
   "id": "069c45e5",
   "metadata": {},
   "outputs": [
    {
     "data": {
      "text/plain": [
       "GaussianNB()"
      ]
     },
     "execution_count": 27,
     "metadata": {},
     "output_type": "execute_result"
    }
   ],
   "source": [
    "from sklearn.naive_bayes import GaussianNB\n",
    "classifier = GaussianNB()\n",
    "classifier.fit(x_train, y_train)\n"
   ]
  },
  {
   "cell_type": "code",
   "execution_count": 28,
   "id": "b5d0b91e",
   "metadata": {},
   "outputs": [],
   "source": [
    "y_pred = classifier.predict(x_test)"
   ]
  },
  {
   "cell_type": "code",
   "execution_count": 29,
   "id": "68eb2295",
   "metadata": {},
   "outputs": [
    {
     "name": "stdout",
     "output_type": "stream",
     "text": [
      "Confusion Matrix : \n",
      " [[65  3]\n",
      " [ 7 25]]\n"
     ]
    }
   ],
   "source": [
    "from sklearn.metrics import confusion_matrix\n",
    "cm = confusion_matrix(y_test, y_pred)\n",
    "print(\"Confusion Matrix : \\n\",cm)"
   ]
  },
  {
   "cell_type": "code",
   "execution_count": 33,
   "id": "995d6451",
   "metadata": {},
   "outputs": [
    {
     "name": "stdout",
     "output_type": "stream",
     "text": [
      "Accuracy :  0.9\n"
     ]
    }
   ],
   "source": [
    "from sklearn.metrics import accuracy_score\n",
    "print (\"Accuracy : \", accuracy_score(y_test, y_pred)) "
   ]
  },
  {
   "cell_type": "code",
   "execution_count": 44,
   "id": "7c24081d",
   "metadata": {},
   "outputs": [
    {
     "name": "stdout",
     "output_type": "stream",
     "text": [
      "              precision    recall  f1-score   support\n",
      "\n",
      "           0       0.90      0.96      0.93        68\n",
      "           1       0.89      0.78      0.83        32\n",
      "\n",
      "    accuracy                           0.90       100\n",
      "   macro avg       0.90      0.87      0.88       100\n",
      "weighted avg       0.90      0.90      0.90       100\n",
      "\n"
     ]
    }
   ],
   "source": [
    "from sklearn import metrics\n",
    "import numpy as np\n",
    "y_pred=np.around(classifier.predict(x_test))\n",
    "print(metrics.classification_report(y_test,y_pred))\n",
    "\n"
   ]
  },
  {
   "cell_type": "code",
   "execution_count": 38,
   "id": "7de9c8fe",
   "metadata": {},
   "outputs": [
    {
     "data": {
      "image/png": "[encoded data removed]",
      "text/plain": [
       "<Figure size 640x480 with 1 Axes>"
      ]
     },
     "metadata": {},
     "output_type": "display_data"
    },
    {
     "data": {
      "image/png": "[encoded data removed]",
      "text/plain": [
       "<Figure size 640x480 with 1 Axes>"
      ]
     },
     "metadata": {},
     "output_type": "display_data"
    }
   ],
   "source": [
    "plt.title(\"Age\")\n",
    "plt.hist(dataset.Age)\n",
    "plt.show()\n",
    "plt.title(\"EstimatedSalary\")\n",
    "plt.hist(dataset.EstimatedSalary)\n",
    "plt.show()\n",
    "\n"
   ]
  },
  {
   "cell_type": "code",
   "execution_count": null,
   "id": "bf52087c",
   "metadata": {},
   "outputs": [],
   "source": []
  },
  {
   "cell_type": "code",
   "execution_count": null,
   "id": "73442541",
   "metadata": {},
   "outputs": [],
   "source": [
    "LR"
   ]
  },
  {
   "cell_type": "code",
   "execution_count": 45,
   "id": "1e7aa9bb",
   "metadata": {},
   "outputs": [],
   "source": [
    "import numpy as nm\n",
    "import matplotlib.pyplot as mtp\n",
    "import pandas as pd\n",
    "from sklearn.model_selection import train_test_split\n",
    "from sklearn.preprocessing import StandardScaler\n",
    "from sklearn.linear_model import LogisticRegression\n",
    "from sklearn.metrics import confusion_matrix\n",
    "from sklearn.metrics import accuracy_score\n",
    "import matplotlib.pyplot as plt\n",
    "from sklearn import metrics\n",
    "import numpy as np\n"
   ]
  },
  {
   "cell_type": "code",
   "execution_count": 48,
   "id": "36baae93",
   "metadata": {},
   "outputs": [],
   "source": [
    "data_set= pd.read_csv('user.csv')  \n",
    "x= data_set.iloc[:, [2,3]].values\n",
    "y= data_set.iloc[:, 4].values\n"
   ]
  },
  {
   "cell_type": "code",
   "execution_count": null,
   "id": "4082b1e9",
   "metadata": {},
   "outputs": [],
   "source": [
    "x_train, x_test, y_train, y_test= train_test_split(x, y, test_size= 0.25, random_state=0)"
   ]
  },
  {
   "cell_type": "code",
   "execution_count": 49,
   "id": "6f331fb4",
   "metadata": {},
   "outputs": [],
   "source": [
    "st_x= StandardScaler()\n",
    "x_train1= st_x.fit_transform(x_train)\n",
    "x_test1= st_x.transform(x_test)\n"
   ]
  },
  {
   "cell_type": "code",
   "execution_count": 50,
   "id": "cf4b11ff",
   "metadata": {},
   "outputs": [
    {
     "data": {
      "text/plain": [
       "LogisticRegression(multi_class='warn', random_state=0, solver='warn')"
      ]
     },
     "execution_count": 50,
     "metadata": {},
     "output_type": "execute_result"
    }
   ],
   "source": [
    "classifier= LogisticRegression(random_state=0)\n",
    "classifier.fit(x_train1, y_train)\n",
    "LogisticRegression(C=1.0, class_weight=None, dual=False, fit_intercept=True,\n",
    "intercept_scaling=1, l1_ratio=None, max_iter=100,\n",
    "multi_class='warn', n_jobs=None, penalty='l2',\n",
    "random_state=0, solver='warn', tol=0.0001, verbose=0,\n",
    "warm_start=False)\n",
    "\n"
   ]
  },
  {
   "cell_type": "code",
   "execution_count": 51,
   "id": "464fcf37",
   "metadata": {},
   "outputs": [
    {
     "name": "stdout",
     "output_type": "stream",
     "text": [
      "[0 0 0 0 0 0 0 1 0 1 0 0 0 0 0 0 0 0 1 0 0 1 0 1 0 1 0 0 0 0 0 0 1 0 0 0 0\n",
      " 0 0 1 0 0 0 0 1 0 0 1 0 1 1 0 0 0 1 0 0 0 0 0 0 1 0 0 0 1 0 0 0 0 1 0 0 0\n",
      " 0 0 1 0 1 1 1 1 0 0 1 1 0 1 0 0 0 1 0 0 0 0 0 0 1 1]\n"
     ]
    }
   ],
   "source": [
    "y_pred= classifier.predict(x_test1)\n",
    "print(y_pred)\n"
   ]
  },
  {
   "cell_type": "code",
   "execution_count": 52,
   "id": "0de3ccf7",
   "metadata": {},
   "outputs": [
    {
     "name": "stdout",
     "output_type": "stream",
     "text": [
      "Confusion Matrix : \n",
      " [[65  3]\n",
      " [ 8 24]]\n"
     ]
    }
   ],
   "source": [
    "cm= confusion_matrix(y_test, y_pred)\n",
    "print(\"Confusion Matrix : \\n\",cm)\n"
   ]
  },
  {
   "cell_type": "code",
   "execution_count": 53,
   "id": "15552bc8",
   "metadata": {},
   "outputs": [
    {
     "name": "stdout",
     "output_type": "stream",
     "text": [
      "Accuracy :  0.89\n"
     ]
    }
   ],
   "source": [
    "print (\"Accuracy : \", accuracy_score(y_test, y_pred))   "
   ]
  },
  {
   "cell_type": "code",
   "execution_count": 54,
   "id": "23c10926",
   "metadata": {},
   "outputs": [
    {
     "name": "stdout",
     "output_type": "stream",
     "text": [
      "              precision    recall  f1-score   support\n",
      "\n",
      "           0       0.89      0.96      0.92        68\n",
      "           1       0.89      0.75      0.81        32\n",
      "\n",
      "    accuracy                           0.89       100\n",
      "   macro avg       0.89      0.85      0.87       100\n",
      "weighted avg       0.89      0.89      0.89       100\n",
      "\n"
     ]
    }
   ],
   "source": [
    "from sklearn import metrics\n",
    "import numpy as np\n",
    "\n",
    "y_pred=np.around(classifier.predict(x_test1))\n",
    "print(metrics.classification_report(y_test,y_pred))\n"
   ]
  },
  {
   "cell_type": "code",
   "execution_count": 55,
   "id": "c2e0b3ea",
   "metadata": {},
   "outputs": [
    {
     "data": {
      "image/png": "[encoded data removed]",
      "text/plain": [
       "<Figure size 640x480 with 1 Axes>"
      ]
     },
     "metadata": {},
     "output_type": "display_data"
    },
    {
     "data": {
      "image/png": "[encoded data removed]",
      "text/plain": [
       "<Figure size 640x480 with 1 Axes>"
      ]
     },
     "metadata": {},
     "output_type": "display_data"
    }
   ],
   "source": [
    "plt.title(\"Age\")\n",
    "plt.hist(data_set.Age)\n",
    "plt.show()\n",
    "plt.title(\"EstimatedSalary\")\n",
    "plt.hist(data_set.EstimatedSalary)\n",
    "plt.show()\n"
   ]
  },
  {
   "cell_type": "code",
   "execution_count": null,
   "id": "f34d2718",
   "metadata": {},
   "outputs": [],
   "source": []
  },
  {
   "cell_type": "code",
   "execution_count": null,
   "id": "0f2520d2",
   "metadata": {},
   "outputs": [],
   "source": [
    "KNN"
   ]
  },
  {
   "cell_type": "code",
   "execution_count": 57,
   "id": "0934d58e",
   "metadata": {},
   "outputs": [
    {
     "data": {
      "text/plain": [
       "KNeighborsClassifier()"
      ]
     },
     "execution_count": 57,
     "metadata": {},
     "output_type": "execute_result"
    }
   ],
   "source": [
    "import numpy as nm\n",
    "import matplotlib.pyplot as mtp\n",
    "import pandas as pd\n",
    "from sklearn.model_selection import train_test_split\n",
    "from sklearn.preprocessing import StandardScaler\n",
    "from sklearn.neighbors import KNeighborsClassifier\n",
    "from sklearn.metrics import confusion_matrix\n",
    "from sklearn.metrics import accuracy_score\n",
    "import matplotlib.pyplot as plt\n",
    "\n",
    "#importing datasets\n",
    "data_set= pd.read_csv('user.csv')\n",
    "\n",
    "#Extracting Independent and dependent Variable\n",
    "x= data_set.iloc[:, [2,3]].values\n",
    "y= data_set.iloc[:, 4].values\n",
    "\n",
    "# Splitting the dataset into training and test set.\n",
    "x_train, x_test, y_train, y_test= train_test_split(x, y, test_size= 0.25, random_state=0)\n",
    "\n",
    "#feature Scaling\n",
    "st_x= StandardScaler()\n",
    "x_train1= st_x.fit_transform(x_train)\n",
    "x_test1= st_x.transform(x_test)\n",
    "\n",
    "#Fitting K-NN classifier to the training set\n",
    "classifier= KNeighborsClassifier(n_neighbors=5, metric='minkowski',p=2)\n",
    "classifier.fit(x_train1, y_train)\n"
   ]
  },
  {
   "cell_type": "code",
   "execution_count": 58,
   "id": "c0d90855",
   "metadata": {},
   "outputs": [
    {
     "name": "stdout",
     "output_type": "stream",
     "text": [
      "Confusion Matrix : \n",
      " [[64  4]\n",
      " [ 3 29]]\n"
     ]
    }
   ],
   "source": [
    "y_pred= classifier.predict(x_test1)\n",
    "\n",
    "#Creating the Confusion matrix\n",
    "cm= confusion_matrix(y_test, y_pred)\n",
    "print(\"Confusion Matrix : \\n\",cm)\n",
    "\n",
    "\n",
    "\n",
    "\n"
   ]
  },
  {
   "cell_type": "code",
   "execution_count": 59,
   "id": "9af5c79f",
   "metadata": {},
   "outputs": [
    {
     "name": "stdout",
     "output_type": "stream",
     "text": [
      "Accuracy :  0.93\n"
     ]
    }
   ],
   "source": [
    "print (\"Accuracy : \", accuracy_score(y_test, y_pred))"
   ]
  },
  {
   "cell_type": "code",
   "execution_count": 61,
   "id": "ab78e13d",
   "metadata": {},
   "outputs": [
    {
     "name": "stdout",
     "output_type": "stream",
     "text": [
      "              precision    recall  f1-score   support\n",
      "\n",
      "           0       0.96      0.94      0.95        68\n",
      "           1       0.88      0.91      0.89        32\n",
      "\n",
      "    accuracy                           0.93       100\n",
      "   macro avg       0.92      0.92      0.92       100\n",
      "weighted avg       0.93      0.93      0.93       100\n",
      "\n"
     ]
    }
   ],
   "source": [
    "from sklearn import metrics\n",
    "import numpy as np\n",
    "y_pred=np.around(classifier.predict(x_test1))\n",
    "print(metrics.classification_report(y_test,y_pred))\n"
   ]
  },
  {
   "cell_type": "code",
   "execution_count": null,
   "id": "9c722772",
   "metadata": {},
   "outputs": [],
   "source": []
  },
  {
   "cell_type": "code",
   "execution_count": null,
   "id": "7cbae61c",
   "metadata": {},
   "outputs": [],
   "source": [
    "svm"
   ]
  },
  {
   "cell_type": "code",
   "execution_count": 68,
   "id": "f66a6f04",
   "metadata": {},
   "outputs": [],
   "source": [
    "import pandas as pd\n",
    "\n",
    "fruits = pd.read_table('fruit_data_with_colors.txt')\n",
    "feature_names = ['mass', 'width', 'height', 'color_score']\n",
    "X = fruits[feature_names]\n",
    "y = fruits['fruit_label']                               # y only label\n",
    "\n",
    "from sklearn.model_selection import train_test_split\n",
    "X_train, X_test, y_train, y_test = train_test_split(X, y, random_state=0)\n",
    "from sklearn.preprocessing import MinMaxScaler\n",
    "scaler = MinMaxScaler()\n",
    "X_train = scaler.fit_transform(X_train)\n",
    "X_test = scaler.transform(X_test)"
   ]
  },
  {
   "cell_type": "code",
   "execution_count": 69,
   "id": "955aa9d5",
   "metadata": {},
   "outputs": [
    {
     "name": "stdout",
     "output_type": "stream",
     "text": [
      "Accuracy of SVM classifier on training set: 0.91\n",
      "Accuracy of SVM classifier on test set: 0.80\n"
     ]
    }
   ],
   "source": [
    "from sklearn.svm import SVC\n",
    "svm = SVC()\n",
    "svm.fit(X_train, y_train)\n",
    "print('Accuracy of SVM classifier on training set: {:.2f}'\n",
    "     .format(svm.score(X_train, y_train)))\n",
    "print('Accuracy of SVM classifier on test set: {:.2f}'\n",
    "     .format(svm.score(X_test, y_test)))"
   ]
  },
  {
   "cell_type": "code",
   "execution_count": null,
   "id": "e1761dd5",
   "metadata": {},
   "outputs": [],
   "source": []
  },
  {
   "cell_type": "code",
   "execution_count": null,
   "id": "6b2d06c2",
   "metadata": {},
   "outputs": [],
   "source": [
    "DT"
   ]
  },
  {
   "cell_type": "code",
   "execution_count": 70,
   "id": "fc402781",
   "metadata": {},
   "outputs": [
    {
     "name": "stdout",
     "output_type": "stream",
     "text": [
      "    fruit_label fruit_name     fruit_subtype  mass  width  height  color_score\n",
      "0             1      apple      granny_smith   192    8.4     7.3         0.55\n",
      "1             1      apple      granny_smith   180    8.0     6.8         0.59\n",
      "2             1      apple      granny_smith   176    7.4     7.2         0.60\n",
      "3             2   mandarin          mandarin    86    6.2     4.7         0.80\n",
      "4             2   mandarin          mandarin    84    6.0     4.6         0.79\n",
      "5             2   mandarin          mandarin    80    5.8     4.3         0.77\n",
      "6             2   mandarin          mandarin    80    5.9     4.3         0.81\n",
      "7             2   mandarin          mandarin    76    5.8     4.0         0.81\n",
      "8             1      apple          braeburn   178    7.1     7.8         0.92\n",
      "9             1      apple          braeburn   172    7.4     7.0         0.89\n",
      "10            1      apple          braeburn   166    6.9     7.3         0.93\n",
      "11            1      apple          braeburn   172    7.1     7.6         0.92\n",
      "12            1      apple          braeburn   154    7.0     7.1         0.88\n",
      "13            1      apple  golden_delicious   164    7.3     7.7         0.70\n",
      "14            1      apple  golden_delicious   152    7.6     7.3         0.69\n",
      "15            1      apple  golden_delicious   156    7.7     7.1         0.69\n",
      "16            1      apple  golden_delicious   156    7.6     7.5         0.67\n",
      "17            1      apple  golden_delicious   168    7.5     7.6         0.73\n",
      "18            1      apple       cripps_pink   162    7.5     7.1         0.83\n",
      "19            1      apple       cripps_pink   162    7.4     7.2         0.85\n",
      "20            1      apple       cripps_pink   160    7.5     7.5         0.86\n",
      "21            1      apple       cripps_pink   156    7.4     7.4         0.84\n",
      "22            1      apple       cripps_pink   140    7.3     7.1         0.87\n",
      "23            1      apple       cripps_pink   170    7.6     7.9         0.88\n",
      "24            3     orange     spanish_jumbo   342    9.0     9.4         0.75\n",
      "25            3     orange     spanish_jumbo   356    9.2     9.2         0.75\n",
      "26            3     orange     spanish_jumbo   362    9.6     9.2         0.74\n",
      "27            3     orange  selected_seconds   204    7.5     9.2         0.77\n",
      "28            3     orange  selected_seconds   140    6.7     7.1         0.72\n",
      "29            3     orange  selected_seconds   160    7.0     7.4         0.81\n",
      "30            3     orange  selected_seconds   158    7.1     7.5         0.79\n",
      "31            3     orange  selected_seconds   210    7.8     8.0         0.82\n",
      "32            3     orange  selected_seconds   164    7.2     7.0         0.80\n",
      "33            3     orange      turkey_navel   190    7.5     8.1         0.74\n",
      "34            3     orange      turkey_navel   142    7.6     7.8         0.75\n",
      "35            3     orange      turkey_navel   150    7.1     7.9         0.75\n",
      "36            3     orange      turkey_navel   160    7.1     7.6         0.76\n",
      "37            3     orange      turkey_navel   154    7.3     7.3         0.79\n",
      "38            3     orange      turkey_navel   158    7.2     7.8         0.77\n",
      "39            3     orange      turkey_navel   144    6.8     7.4         0.75\n",
      "40            3     orange      turkey_navel   154    7.1     7.5         0.78\n",
      "41            3     orange      turkey_navel   180    7.6     8.2         0.79\n",
      "42            3     orange      turkey_navel   154    7.2     7.2         0.82\n",
      "43            4      lemon    spanish_belsan   194    7.2    10.3         0.70\n",
      "44            4      lemon    spanish_belsan   200    7.3    10.5         0.72\n",
      "45            4      lemon    spanish_belsan   186    7.2     9.2         0.72\n",
      "46            4      lemon    spanish_belsan   216    7.3    10.2         0.71\n",
      "47            4      lemon    spanish_belsan   196    7.3     9.7         0.72\n",
      "48            4      lemon    spanish_belsan   174    7.3    10.1         0.72\n",
      "49            4      lemon           unknown   132    5.8     8.7         0.73\n",
      "50            4      lemon           unknown   130    6.0     8.2         0.71\n",
      "51            4      lemon           unknown   116    6.0     7.5         0.72\n",
      "52            4      lemon           unknown   118    5.9     8.0         0.72\n",
      "53            4      lemon           unknown   120    6.0     8.4         0.74\n",
      "54            4      lemon           unknown   116    6.1     8.5         0.71\n",
      "55            4      lemon           unknown   116    6.3     7.7         0.72\n",
      "56            4      lemon           unknown   116    5.9     8.1         0.73\n",
      "57            4      lemon           unknown   152    6.5     8.5         0.72\n",
      "58            4      lemon           unknown   118    6.1     8.1         0.70\n"
     ]
    }
   ],
   "source": [
    "import pandas as pd\n",
    "\n",
    "fruits = pd.read_table('fruit_data_with_colors.txt')\n",
    "print(fruits)"
   ]
  },
  {
   "cell_type": "code",
   "execution_count": 71,
   "id": "8226a56d",
   "metadata": {},
   "outputs": [],
   "source": [
    "feature_names = ['mass', 'width', 'height', 'color_score']\n",
    "X = fruits[feature_names]\n",
    "y = fruits['fruit_label']                               "
   ]
  },
  {
   "cell_type": "code",
   "execution_count": 72,
   "id": "65271d3f",
   "metadata": {},
   "outputs": [],
   "source": [
    "from sklearn.model_selection import train_test_split\n",
    "X_train, X_test, y_train, y_test = train_test_split(X, y, random_state=0)"
   ]
  },
  {
   "cell_type": "code",
   "execution_count": 73,
   "id": "a0f685e9",
   "metadata": {},
   "outputs": [],
   "source": [
    "from sklearn.preprocessing import MinMaxScaler\n",
    "scaler = MinMaxScaler()\n",
    "X_train = scaler.fit_transform(X_train)\n",
    "X_test = scaler.transform(X_test)"
   ]
  },
  {
   "cell_type": "code",
   "execution_count": 74,
   "id": "84034eed",
   "metadata": {},
   "outputs": [
    {
     "name": "stdout",
     "output_type": "stream",
     "text": [
      "Accuracy of Decision Tree classifier on training set: 1.00\n",
      "Accuracy of Decision Tree classifier on test set: 0.67\n"
     ]
    }
   ],
   "source": [
    "from sklearn.tree import DecisionTreeClassifier\n",
    "clf = DecisionTreeClassifier().fit(X_train, y_train)\n",
    "print('Accuracy of Decision Tree classifier on training set: {:.2f}'\n",
    "     .format(clf.score(X_train, y_train)))\n",
    "print('Accuracy of Decision Tree classifier on test set: {:.2f}'\n",
    "     .format(clf.score(X_test, y_test)))"
   ]
  },
  {
   "cell_type": "code",
   "execution_count": null,
   "id": "98d1f284",
   "metadata": {},
   "outputs": [],
   "source": []
  },
  {
   "cell_type": "code",
   "execution_count": null,
   "id": "84400e69",
   "metadata": {},
   "outputs": [],
   "source": [
    "KMean"
   ]
  },
  {
   "cell_type": "code",
   "execution_count": 75,
   "id": "51ac6788",
   "metadata": {},
   "outputs": [],
   "source": [
    "from copy import deepcopy\n",
    "import numpy as np # linear algebra\n",
    "import pandas as pd # data processing, CSV file I/O (e.g. pd.read_csv)\n",
    "from matplotlib import pyplot as plt"
   ]
  },
  {
   "cell_type": "code",
   "execution_count": 76,
   "id": "0d860b8b",
   "metadata": {},
   "outputs": [
    {
     "data": {
      "text/plain": [
       "<matplotlib.collections.PathCollection at 0x1ed42e33808>"
      ]
     },
     "execution_count": 76,
     "metadata": {},
     "output_type": "execute_result"
    },
    {
     "data": {
      "image/png": "[encoded data removed]",
      "text/plain": [
       "<Figure size 640x480 with 1 Axes>"
      ]
     },
     "metadata": {},
     "output_type": "display_data"
    }
   ],
   "source": [
    "center_1 = np.array([1,1])\n",
    "center_2 = np.array([5,5])\n",
    "center_3 = np.array([8,1])\n",
    "\n",
    "# Generate random data and center it to the three centers\n",
    "data_1 = np.random.randn(200, 2) + center_1\n",
    "data_2 = np.random.randn(200,2) + center_2\n",
    "data_3 = np.random.randn(200,2) + center_3\n",
    "\n",
    "data = np.concatenate((data_1, data_2, data_3), axis = 0)\n",
    "\n",
    "plt.scatter(data[:,0], data[:,1], s=7)"
   ]
  },
  {
   "cell_type": "code",
   "execution_count": 77,
   "id": "cf66f90d",
   "metadata": {},
   "outputs": [
    {
     "data": {
      "image/png": "[encoded data removed]",
      "text/plain": [
       "<Figure size 640x480 with 1 Axes>"
      ]
     },
     "metadata": {},
     "output_type": "display_data"
    }
   ],
   "source": [
    "k = 3\n",
    "# Number of training data\n",
    "n = data.shape[0]\n",
    "# Number of features in the data\n",
    "c = data.shape[1]\n",
    "\n",
    "# Generate random centers, here we use sigma and mean to ensure it represent the whole data\n",
    "mean = np.mean(data, axis = 0)\n",
    "std = np.std(data, axis = 0)\n",
    "centers = np.random.randn(k,c)*std + mean\n",
    "\n",
    "# Plot the data and the centers generated as random\n",
    "plt.scatter(data[:,0], data[:,1], s=9,color='c')\n",
    "plt.scatter(centers[:,0], centers[:,1], marker='*', c='g', s=150)\n",
    "plt.show()"
   ]
  },
  {
   "cell_type": "code",
   "execution_count": null,
   "id": "4df45b41",
   "metadata": {},
   "outputs": [],
   "source": []
  },
  {
   "cell_type": "code",
   "execution_count": null,
   "id": "8ca4c78c",
   "metadata": {},
   "outputs": [],
   "source": [
    "WJ"
   ]
  },
  {
   "cell_type": "code",
   "execution_count": 78,
   "id": "4eeea41a",
   "metadata": {},
   "outputs": [
    {
     "name": "stdout",
     "output_type": "stream",
     "text": [
      "Steps: \n",
      "0 0\n",
      "0 3\n",
      "3 0\n",
      "3 3\n",
      "4 2\n",
      "0 2\n"
     ]
    },
    {
     "data": {
      "text/plain": [
       "True"
      ]
     },
     "execution_count": 78,
     "metadata": {},
     "output_type": "execute_result"
    }
   ],
   "source": [
    "from collections import defaultdict\n",
    "jug1, jug2, aim = 4, 3, 2\n",
    "visited = defaultdict(lambda: False)\n",
    "def waterJugSolver(amt1, amt2):\n",
    "    if (amt1 == aim and amt2 == 0) or (amt2 == aim and amt1 == 0):\n",
    "        print(amt1, amt2)\n",
    "        return True\n",
    "    if visited[(amt1, amt2)] == False:\n",
    "        print(amt1, amt2)\n",
    "        visited[(amt1, amt2)] = True\n",
    "        return (waterJugSolver(0, amt2) or\n",
    "        waterJugSolver(amt1, 0) or\n",
    "        waterJugSolver(amt1, jug2) or\n",
    "        waterJugSolver(amt1 + min(amt2, (jug1-amt1)),\n",
    "        amt2 - min(amt2, (jug1-amt1))) or\n",
    "        waterJugSolver(amt1 - min(amt1, (jug2-amt2)),\n",
    "        amt2 + min(amt1, (jug2-amt2))))       \n",
    "    else:\n",
    "        return False    \n",
    "print(\"Steps: \")\n",
    "waterJugSolver(0, 0)\n",
    "\n"
   ]
  },
  {
   "cell_type": "code",
   "execution_count": null,
   "id": "d4de8e6c",
   "metadata": {},
   "outputs": [],
   "source": [
    "TOH"
   ]
  },
  {
   "cell_type": "code",
   "execution_count": 79,
   "id": "2e9157e2",
   "metadata": {},
   "outputs": [
    {
     "name": "stdout",
     "output_type": "stream",
     "text": [
      "Move disk 1 from source A to destination B\n",
      "Move disk 2 from source A to destination C\n",
      "Move disk 1 from source B to destination C\n",
      "Move disk 3 from source A to destination B\n",
      "Move disk 1 from source C to destination A\n",
      "Move disk 2 from source C to destination B\n",
      "Move disk 1 from source A to destination B\n"
     ]
    }
   ],
   "source": [
    "def TowerOfHanoi(n , source, destination, auxiliary):\n",
    "    if n==1:\n",
    "        print (\"Move disk 1 from source\",source,\"to destination\",destination)\n",
    "        return\n",
    "    TowerOfHanoi(n-1, source, auxiliary, destination)\n",
    "    print (\"Move disk\",n,\"from source\",source,\"to destination\",destination)\n",
    "    TowerOfHanoi(n-1, auxiliary, destination, source)\n",
    "         \n",
    "# Driver code\n",
    "n =3\n",
    "TowerOfHanoi(n,'A','B','C')\n"
   ]
  },
  {
   "cell_type": "code",
   "execution_count": null,
   "id": "f91bf15c",
   "metadata": {},
   "outputs": [],
   "source": [
    "TS"
   ]
  },
  {
   "cell_type": "code",
   "execution_count": 107,
   "id": "d5ad54dc",
   "metadata": {},
   "outputs": [
    {
     "ename": "KeyError",
     "evalue": "('D', 'A')",
     "output_type": "error",
     "traceback": [
      "\u001b[1;31m---------------------------------------------------------------------------\u001b[0m",
      "\u001b[1;31mKeyError\u001b[0m                                  Traceback (most recent call last)",
      "\u001b[1;32m~\\AppData\\Local\\Temp\\ipykernel_4368\\2535482996.py\u001b[0m in \u001b[0;36m<module>\u001b[1;34m\u001b[0m\n\u001b[0;32m     16\u001b[0m \u001b[1;32mfor\u001b[0m \u001b[0mtour\u001b[0m \u001b[1;32min\u001b[0m \u001b[0mtours\u001b[0m\u001b[1;33m:\u001b[0m\u001b[1;33m\u001b[0m\u001b[1;33m\u001b[0m\u001b[0m\n\u001b[0;32m     17\u001b[0m         \u001b[0mdistance\u001b[0m\u001b[1;33m=\u001b[0m\u001b[0msum\u001b[0m\u001b[1;33m(\u001b[0m\u001b[0mdistances\u001b[0m\u001b[1;33m[\u001b[0m\u001b[1;33m(\u001b[0m\u001b[0mtour\u001b[0m\u001b[1;33m[\u001b[0m\u001b[0mi\u001b[0m\u001b[1;33m]\u001b[0m\u001b[1;33m,\u001b[0m\u001b[0mtour\u001b[0m\u001b[1;33m[\u001b[0m\u001b[0mi\u001b[0m\u001b[1;33m+\u001b[0m\u001b[1;36m1\u001b[0m\u001b[1;33m]\u001b[0m\u001b[1;33m)\u001b[0m\u001b[1;33m]\u001b[0m\u001b[1;32mfor\u001b[0m \u001b[0mi\u001b[0m \u001b[1;32min\u001b[0m \u001b[0mrange\u001b[0m\u001b[1;33m(\u001b[0m\u001b[0mlen\u001b[0m\u001b[1;33m(\u001b[0m\u001b[0mcities\u001b[0m\u001b[1;33m)\u001b[0m\u001b[1;33m-\u001b[0m\u001b[1;36m1\u001b[0m\u001b[1;33m)\u001b[0m\u001b[1;33m)\u001b[0m\u001b[1;33m\u001b[0m\u001b[1;33m\u001b[0m\u001b[0m\n\u001b[1;32m---> 18\u001b[1;33m         \u001b[0mdistance\u001b[0m\u001b[1;33m+=\u001b[0m\u001b[0mdistances\u001b[0m\u001b[1;33m[\u001b[0m\u001b[1;33m(\u001b[0m\u001b[0mtour\u001b[0m\u001b[1;33m[\u001b[0m\u001b[1;33m-\u001b[0m\u001b[1;36m1\u001b[0m\u001b[1;33m]\u001b[0m\u001b[1;33m,\u001b[0m\u001b[0mtour\u001b[0m\u001b[1;33m[\u001b[0m\u001b[1;36m0\u001b[0m\u001b[1;33m]\u001b[0m\u001b[1;33m)\u001b[0m\u001b[1;33m]\u001b[0m\u001b[1;33m\u001b[0m\u001b[1;33m\u001b[0m\u001b[0m\n\u001b[0m\u001b[0;32m     19\u001b[0m         \u001b[1;32mif\u001b[0m \u001b[0mdistance\u001b[0m\u001b[1;33m<\u001b[0m\u001b[0mmin_distance\u001b[0m\u001b[1;33m:\u001b[0m\u001b[1;33m\u001b[0m\u001b[1;33m\u001b[0m\u001b[0m\n\u001b[0;32m     20\u001b[0m             \u001b[0mmin_distance\u001b[0m\u001b[1;33m=\u001b[0m\u001b[0mdistance\u001b[0m\u001b[1;33m\u001b[0m\u001b[1;33m\u001b[0m\u001b[0m\n",
      "\u001b[1;31mKeyError\u001b[0m: ('D', 'A')"
     ]
    }
   ],
   "source": [
    "import itertools\n",
    "\n",
    "cities=['A','B','C','D']\n",
    "distances={\n",
    "    ('A','B'):10,\n",
    "     ('A','C'):15,\n",
    "     ('A','D'):20,\n",
    "     ('B','C'):35,\n",
    "     ('B','D'):25,\n",
    "     ('C','D'):30\n",
    "}\n",
    "\n",
    "tours=itertools.permutations(cities)\n",
    "\n",
    "min_distance=float('inf')\n",
    "for tour in tours:\n",
    "        distance=sum(distances[(tour[i],tour[i+1])]for i in range(len(cities)-1))\n",
    "        distance+=distances[(tour[-1],tour[0])]\n",
    "        if distance<min_distance:\n",
    "            min_distance=distance\n",
    "            optimal_tour=tour\n",
    "                                 \n",
    "print(\"optimal tour\",optimal_tour)\n",
    "                                                              \n",
    "print(\"optimal distance\",min_distance)\n",
    "distances = {\n",
    "    'A': {'B': 4, 'C': 8, 'D': 7},\n",
    "    'B': {'A': 4, 'C': 2, 'D': 3},\n",
    "    'C': {'A': 8, 'B': 2, 'D': 6},\n",
    "    'D': {'A': 7, 'B': 3, 'C': 6}\n",
    "}"
   ]
  },
  {
   "cell_type": "code",
   "execution_count": 10,
   "id": "f41ff794",
   "metadata": {},
   "outputs": [
    {
     "name": "stdout",
     "output_type": "stream",
     "text": [
      "Route : ['A', 'B', 'C', 'D']\n",
      "Total distance : 20\n"
     ]
    }
   ],
   "source": [
    "from itertools import permutations\n",
    "\n",
    "def tsp(cities, distances):\n",
    "    min_distance = float('inf')\n",
    "    best_route = None\n",
    "    for route in permutations(cities):\n",
    "        route = list(route) + [route[0]]\n",
    "        distance = 0\n",
    "        for i in range(len(route) - 1):\n",
    "            distance += distances[route[i]][route[i + 1]]\n",
    "        if distance < min_distance:\n",
    "            min_distance = distance\n",
    "            best_route = route\n",
    "    return best_route, min_distance\n",
    "\n",
    "cities = ['A', 'B', 'C', 'D']\n",
    "distances = {\n",
    "    'A': {'B': 2, 'C': 4, 'D': 5},\n",
    "    'B': {'A': 2, 'C': 6, 'D': 8},\n",
    "    'C': {'A': 4, 'B': 6, 'D': 7},\n",
    "    'D': {'A': 5, 'B': 8, 'C': 7}\n",
    "}\n",
    "route, distance =tsp(cities, distances)\n",
    "print(\"Route :\", route[:-1])\n",
    "print(\"Total distance :\", distance)"
   ]
  },
  {
   "cell_type": "code",
   "execution_count": null,
   "id": "d824cde7",
   "metadata": {},
   "outputs": [],
   "source": [
    "BestFS"
   ]
  },
  {
   "cell_type": "code",
   "execution_count": 10,
   "id": "4b7e3c31",
   "metadata": {},
   "outputs": [
    {
     "name": "stdout",
     "output_type": "stream",
     "text": [
      "Collecting networkx\n",
      "  Downloading networkx-2.6.3-py3-none-any.whl (1.9 MB)\n",
      "     ---------------------------------------- 1.9/1.9 MB 1.4 MB/s eta 0:00:00\n",
      "Installing collected packages: networkx\n",
      "Successfully installed networkx-2.6.3\n",
      "Collecting networkx\n",
      "  Using cached networkx-2.6.3-py3-none-any.whl (1.9 MB)\n",
      "Installing collected packages: networkx\n",
      "Successfully installed networkx-2.6.3\n",
      "Note: you may need to restart the kernel to use updated packages.\n"
     ]
    }
   ],
   "source": [
    "pip install networkx"
   ]
  },
  {
   "cell_type": "code",
   "execution_count": 3,
   "id": "3823cab2",
   "metadata": {},
   "outputs": [
    {
     "name": "stdout",
     "output_type": "stream",
     "text": [
      "Enter the number of nodes: 4\n",
      "Enter the number of edges: 5\n",
      "Enter the edges along with their weights:\n",
      "2 0 1\n",
      "2 1 1 \n",
      "1 2 1 \n",
      "0 1 1 \n",
      "1 1 1\n",
      "Enter the Source Node: 1\n",
      "Enter the Target/Destination Node: 2\n",
      "\n",
      "Path: 1 0 2 \n"
     ]
    }
   ],
   "source": [
    "from queue import PriorityQueue\n",
    "import matplotlib.pyplot as plt\n",
    "import networkx as nx\n",
    "\n",
    "# for implementing BFS | returns path having lowest cost\n",
    "def best_first_search(source, target, n):\n",
    "    visited = [0] * n\n",
    "    visited[source] = True\n",
    "    pq = PriorityQueue()\n",
    "    pq.put((0, source))\n",
    "    while pq.empty() == False:\n",
    "        u = pq.get()[1]\n",
    "        print(u, end=\" \") # the path having lowest cost\n",
    "        if u == target:\n",
    "            break\n",
    "        for v, c in graph[u]:\n",
    "            if visited[v] == False:\n",
    "                visited[v] = True\n",
    "                pq.put((c, v))\n",
    "    print()\n",
    "# for adding edges to graph\n",
    "def addedge(x, y, cost):\n",
    "    graph[x].append((y, cost))\n",
    "    graph[y].append((x, cost))\n",
    "v = int(input(\"Enter the number of nodes: \"))\n",
    "graph = [[] for i in range(v)] # undirected Graph\n",
    "e = int(input(\"Enter the number of edges: \"))\n",
    "print(\"Enter the edges along with their weights:\")\n",
    "for i in range(e):\n",
    "        x, y, z = list(map(int, input().split()))\n",
    "        addedge(x, y, z)\n",
    "\n",
    "source = int(input(\"Enter the Source Node: \"))\n",
    "target = int(input(\"Enter the Target/Destination Node: \"))\n",
    "print(\"\\nPath: \", end = \"\")\n",
    "best_first_search(source, target, v)"
   ]
  },
  {
   "cell_type": "code",
   "execution_count": null,
   "id": "edba9620",
   "metadata": {},
   "outputs": [],
   "source": [
    "NQ"
   ]
  },
  {
   "cell_type": "code",
   "execution_count": 5,
   "id": "4df308e9",
   "metadata": {},
   "outputs": [
    {
     "name": "stdout",
     "output_type": "stream",
     "text": [
      "Enter the number of queens\n",
      "8\n",
      "[1, 0, 0, 0, 0, 0, 0, 0]\n",
      "[0, 0, 0, 0, 1, 0, 0, 0]\n",
      "[0, 0, 0, 0, 0, 0, 0, 1]\n",
      "[0, 0, 0, 0, 0, 1, 0, 0]\n",
      "[0, 0, 1, 0, 0, 0, 0, 0]\n",
      "[0, 0, 0, 0, 0, 0, 1, 0]\n",
      "[0, 1, 0, 0, 0, 0, 0, 0]\n",
      "[0, 0, 0, 1, 0, 0, 0, 0]\n"
     ]
    }
   ],
   "source": [
    "print (\"Enter the number of queens\")\n",
    "N = int(input())\n",
    "\n",
    "#chessboard\n",
    "#NxN matrix with all elements 0\n",
    "board = [[0]*N for _ in range(N)]\n",
    "\n",
    "def is_attack(i, j):\n",
    "    #checking if there is a queen in row or column\n",
    "    for k in range(0,N):\n",
    "        if board[i][k]==1 or board[k][j]==1:\n",
    "            return True\n",
    "    #checking diagonals\n",
    "    for k in range(0,N):\n",
    "        for l in range(0,N):\n",
    "            if (k+l==i+j) or (k-l==i-j):\n",
    "                if board[k][l]==1:\n",
    "                    return True\n",
    "    return False\n",
    "\n",
    "def N_queen(n):\n",
    "    #if n is 0, solution found\n",
    "    if n==0:\n",
    "        return True\n",
    "    for i in range(0,N):\n",
    "        for j in range(0,N):\n",
    "            \n",
    "            if (not(is_attack(i,j))) and (board[i][j]!=1):\n",
    "                board[i][j] = 1\n",
    "                #recursion\n",
    "                #wether we can put the next queen with this arrangment or not\n",
    "                if N_queen(n-1)==True:\n",
    "                    return True\n",
    "                board[i][j] = 0\n",
    "\n",
    "    return False\n",
    "\n",
    "N_queen(N)\n",
    "for i in board:\n",
    "    print (i)"
   ]
  },
  {
   "cell_type": "code",
   "execution_count": null,
   "id": "19943a2c",
   "metadata": {},
   "outputs": [],
   "source": []
  },
  {
   "cell_type": "code",
   "execution_count": null,
   "id": "f50b9016",
   "metadata": {},
   "outputs": [],
   "source": [
    "A*"
   ]
  },
  {
   "cell_type": "code",
   "execution_count": 12,
   "id": "bf4d274b",
   "metadata": {},
   "outputs": [
    {
     "name": "stdout",
     "output_type": "stream",
     "text": [
      "[(0, 0), (1, 1), (2, 2), (3, 3), (4, 3), (5, 4), (6, 5), (7, 6)]\n"
     ]
    }
   ],
   "source": [
    "class Node():\n",
    "    \n",
    "\n",
    "    def __init__(self, parent=None, position=None):\n",
    "        self.parent = parent\n",
    "        self.position = position\n",
    "\n",
    "        self.g = 0\n",
    "        self.h = 0\n",
    "        self.f = 0\n",
    "\n",
    "    def __eq__(self, other):\n",
    "        return self.position == other.position\n",
    "\n",
    "\n",
    "def astar(maze, start, end):\n",
    "\n",
    "\n",
    "   \n",
    "    start_node = Node(None, start)\n",
    "    start_node.g = start_node.h = start_node.f = 0\n",
    "    end_node = Node(None, end)\n",
    "    end_node.g = end_node.h = end_node.f = 0\n",
    "\n",
    "   \n",
    "    open_list = []\n",
    "    closed_list = []\n",
    "\n",
    "    \n",
    "    open_list.append(start_node)\n",
    "\n",
    " \n",
    "    while len(open_list) > 0:\n",
    "\n",
    "      \n",
    "        current_node = open_list[0]\n",
    "        current_index = 0\n",
    "        for index, item in enumerate(open_list):\n",
    "            if item.f < current_node.f:\n",
    "                current_node = item\n",
    "                current_index = index\n",
    "\n",
    "       \n",
    "        open_list.pop(current_index)\n",
    "        closed_list.append(current_node)\n",
    "\n",
    "      \n",
    "        if current_node == end_node:\n",
    "            path = []\n",
    "            current = current_node\n",
    "            while current is not None:\n",
    "                path.append(current.position)\n",
    "                current = current.parent\n",
    "            return path[::-1] # Return reversed path\n",
    "\n",
    "       \n",
    "        children = []\n",
    "        for new_position in [(0, -1), (0, 1), (-1, 0), (1, 0), (-1, -1), (-1, 1), (1, -1), (1, 1)]: # Adjacent squares\n",
    "\n",
    "          \n",
    "            node_position = (current_node.position[0] + new_position[0], current_node.position[1] + new_position[1])\n",
    "\n",
    "           \n",
    "            if node_position[0] > (len(maze) - 1) or node_position[0] < 0 or node_position[1] > (len(maze[len(maze)-1]) -1) or node_position[1] < 0:\n",
    "                continue\n",
    "\n",
    "           \n",
    "            if maze[node_position[0]][node_position[1]] != 0:\n",
    "                continue\n",
    "\n",
    "            \n",
    "            new_node = Node(current_node, node_position)\n",
    "\n",
    "          \n",
    "            children.append(new_node)\n",
    "\n",
    "        for child in children:\n",
    "\n",
    "            \n",
    "            for closed_child in closed_list:\n",
    "                if child == closed_child:\n",
    "                    continue\n",
    "\n",
    "            \n",
    "            child.g = current_node.g + 1\n",
    "            child.h = ((child.position[0] - end_node.position[0]) ** 2) + ((child.position[1] - end_node.position[1]) ** 2)\n",
    "            child.f = child.g + child.h\n",
    "\n",
    "            \n",
    "            for open_node in open_list:\n",
    "                if child == open_node and child.g > open_node.g:\n",
    "                    continue\n",
    "\n",
    "          \n",
    "            open_list.append(child)\n",
    "\n",
    "\n",
    "def main():\n",
    "         #   0  1  2  3  4  5  6  7  8  9\n",
    "    maze = [[0, 0, 0, 0, 1, 0, 0, 0, 0, 0],  #0\n",
    "            [0, 0, 0, 0, 1, 0, 0, 0, 0, 0],  #1\n",
    "            [0, 0, 0, 0, 1, 0, 0, 0, 0, 0],  #2\n",
    "            [0, 0, 0, 0, 1, 0, 0, 0, 0, 0],  #3\n",
    "            [0, 0, 0, 0, 1, 0, 0, 0, 0, 0],  #4\n",
    "            [0, 0, 0, 0, 0, 0, 0, 0, 0, 0],  #5\n",
    "            [0, 0, 0, 0, 1, 0, 0, 0, 0, 0],  #6\n",
    "            [0, 0, 0, 0, 1, 0, 0, 0, 0, 0],  #7\n",
    "            [0, 0, 0, 0, 1, 0, 0, 0, 0, 0],  #8\n",
    "            [0, 0, 0, 0, 0, 0, 0, 0, 0, 0]]  #9\n",
    "\n",
    "    start = (0, 0)\n",
    "    end = (7, 6)\n",
    "\n",
    "    path = astar(maze, start, end)\n",
    "    print(path)\n",
    "\n",
    "\n",
    "if __name__ == '__main__':\n",
    "    main()"
   ]
  },
  {
   "cell_type": "code",
   "execution_count": null,
   "id": "a847200f",
   "metadata": {},
   "outputs": [],
   "source": []
  }
 ],
 "metadata": {
  "kernelspec": {
   "display_name": "Python 3 (ipykernel)",
   "language": "python",
   "name": "python3"
  },
  "language_info": {
   "codemirror_mode": {
    "name": "ipython",
    "version": 3
   },
   "file_extension": ".py",
   "mimetype": "text/x-python",
   "name": "python",
   "nbconvert_exporter": "python",
   "pygments_lexer": "ipython3",
   "version": "3.7.8"
  }
 },
 "nbformat": 4,
 "nbformat_minor": 5
}
